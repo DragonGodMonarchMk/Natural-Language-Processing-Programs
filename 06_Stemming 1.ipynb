{
 "cells": [
  {
   "cell_type": "code",
   "execution_count": 2,
   "id": "1899abd4",
   "metadata": {},
   "outputs": [],
   "source": [
    "import nltk\n",
    "from nltk.stem import PorterStemmer\n",
    "from nltk.tokenize import word_tokenize"
   ]
  },
  {
   "cell_type": "code",
   "execution_count": 3,
   "id": "8fb5074c",
   "metadata": {},
   "outputs": [
    {
     "name": "stderr",
     "output_type": "stream",
     "text": [
      "[nltk_data] Downloading package punkt to\n",
      "[nltk_data]     C:\\Users\\dell\\AppData\\Roaming\\nltk_data...\n",
      "[nltk_data]   Package punkt is already up-to-date!\n"
     ]
    },
    {
     "data": {
      "text/plain": [
       "True"
      ]
     },
     "execution_count": 3,
     "metadata": {},
     "output_type": "execute_result"
    }
   ],
   "source": [
    "# Download NLTK resources (if not already downloaded)\n",
    "nltk.download('punkt')"
   ]
  },
  {
   "cell_type": "code",
   "execution_count": 4,
   "id": "457f1e95",
   "metadata": {},
   "outputs": [],
   "source": [
    "# Sample text\n",
    "text = \"Stemming is the process of reducing words to their word stem, base or root form.\" #Remove Suffix"
   ]
  },
  {
   "cell_type": "code",
   "execution_count": 5,
   "id": "bdfb8a27",
   "metadata": {},
   "outputs": [],
   "source": [
    "# Tokenize the text\n",
    "tokens = word_tokenize(text)"
   ]
  },
  {
   "cell_type": "markdown",
   "id": "23f3a860",
   "metadata": {},
   "source": [
    "### Porter Stemmer Algorithm\n",
    "\n",
    "#### The Porter Stemmer is relatively simple and fast but may produce stems that are not always real words, as it prioritizes speed and simplicity over linguistic accuracy."
   ]
  },
  {
   "cell_type": "code",
   "execution_count": 6,
   "id": "3854d05e",
   "metadata": {},
   "outputs": [],
   "source": [
    "# Initialize Porter Stemmer\n",
    "stemmer = PorterStemmer()"
   ]
  },
  {
   "cell_type": "code",
   "execution_count": 7,
   "id": "14b49a45",
   "metadata": {},
   "outputs": [],
   "source": [
    "# Stem each token in the text\n",
    "stemmed_text = [stemmer.stem(token) for token in tokens]"
   ]
  },
  {
   "cell_type": "code",
   "execution_count": 8,
   "id": "5818a820",
   "metadata": {},
   "outputs": [],
   "source": [
    "# Join the stemmed tokens back into a string\n",
    "stemmed_text = ' '.join(stemmed_text)"
   ]
  },
  {
   "cell_type": "code",
   "execution_count": 9,
   "id": "fe692d99",
   "metadata": {},
   "outputs": [
    {
     "name": "stdout",
     "output_type": "stream",
     "text": [
      "Original Text:\n",
      "Stemming is the process of reducing words to their word stem, base or root form.\n",
      "\n",
      "Stemmed Text:\n",
      "stem is the process of reduc word to their word stem , base or root form .\n"
     ]
    }
   ],
   "source": [
    "print(\"Original Text:\")\n",
    "print(text)\n",
    "print(\"\\nStemmed Text:\")\n",
    "print(stemmed_text)"
   ]
  },
  {
   "cell_type": "markdown",
   "id": "d4099afe",
   "metadata": {},
   "source": [
    "### Snowball Stemmer Algorithm\n",
    "\n",
    "#### The Snowball Stemmer is more flexible and customizable, allowing users to define their own stemming rules and algorithms for different languages or domains."
   ]
  },
  {
   "cell_type": "code",
   "execution_count": 10,
   "id": "fc5ad945",
   "metadata": {},
   "outputs": [],
   "source": [
    "from nltk.stem import SnowballStemmer\n"
   ]
  },
  {
   "cell_type": "code",
   "execution_count": 11,
   "id": "192d7cc8",
   "metadata": {},
   "outputs": [],
   "source": [
    "text = \"running walks danced laughing\"\n",
    "tokens = word_tokenize(text)"
   ]
  },
  {
   "cell_type": "code",
   "execution_count": 12,
   "id": "2a5145bc",
   "metadata": {},
   "outputs": [],
   "source": [
    "# Initialize Snowball Stemmer for English\n",
    "snowball_stemmer = SnowballStemmer('english')\n",
    "\n",
    "# Snowball stemming\n",
    "snowball_stemmed_text = [snowball_stemmer.stem(token) for token in tokens]\n",
    "\n",
    "# Join the stemmed tokens back into strings\n",
    "snowball_stemmed_text = ' '.join(snowball_stemmed_text)"
   ]
  },
  {
   "cell_type": "code",
   "execution_count": 13,
   "id": "74074edc",
   "metadata": {},
   "outputs": [
    {
     "name": "stdout",
     "output_type": "stream",
     "text": [
      "\n",
      "Snowball Stemmed Text:\n",
      "run walk danc laugh\n"
     ]
    }
   ],
   "source": [
    "print(\"\\nSnowball Stemmed Text:\")\n",
    "print(snowball_stemmed_text)"
   ]
  },
  {
   "cell_type": "code",
   "execution_count": 14,
   "id": "f1fa5b7a",
   "metadata": {},
   "outputs": [
    {
     "name": "stdout",
     "output_type": "stream",
     "text": [
      "Collecting snowballstemmer\n",
      "  Downloading snowballstemmer-2.2.0-py2.py3-none-any.whl.metadata (6.5 kB)\n",
      "Downloading snowballstemmer-2.2.0-py2.py3-none-any.whl (93 kB)\n",
      "   ---------------------------------------- 0.0/93.0 kB ? eta -:--:--\n",
      "   ---------------------------------------- 0.0/93.0 kB ? eta -:--:--\n",
      "   ---------------------------------------- 0.0/93.0 kB ? eta -:--:--\n",
      "   ---- ----------------------------------- 10.2/93.0 kB ? eta -:--:--\n",
      "   ---- ----------------------------------- 10.2/93.0 kB ? eta -:--:--\n",
      "   ------------- -------------------------- 30.7/93.0 kB 163.8 kB/s eta 0:00:01\n",
      "   ------------- -------------------------- 30.7/93.0 kB 163.8 kB/s eta 0:00:01\n",
      "   -------------------------- ------------- 61.4/93.0 kB 233.8 kB/s eta 0:00:01\n",
      "   ----------------------------------- ---- 81.9/93.0 kB 286.7 kB/s eta 0:00:01\n",
      "   ---------------------------------------- 93.0/93.0 kB 252.3 kB/s eta 0:00:00\n",
      "Installing collected packages: snowballstemmer\n",
      "Successfully installed snowballstemmer-2.2.0\n",
      "Note: you may need to restart the kernel to use updated packages.\n"
     ]
    }
   ],
   "source": [
    "pip install snowballstemmer"
   ]
  },
  {
   "cell_type": "markdown",
   "id": "5415bd71",
   "metadata": {},
   "source": [
    "## Snowball for Multilingual Processing"
   ]
  },
  {
   "cell_type": "code",
   "execution_count": 15,
   "id": "5c0155a5",
   "metadata": {},
   "outputs": [
    {
     "name": "stdout",
     "output_type": "stream",
     "text": [
      "Stemmed English Text: I am run in the beauti garden\n",
      "Stemmed French Text: Je cour dan le beau jardin\n"
     ]
    }
   ],
   "source": [
    "from snowballstemmer import stemmer\n",
    "\n",
    "def snowball_stemming(text, lang='english'):\n",
    "    # Initialize Snowball stemmer for the specified language\n",
    "    stemmer_obj = stemmer(lang)\n",
    "\n",
    "    # Tokenize the text\n",
    "    tokens = text.split()\n",
    "\n",
    "    # Stem each token\n",
    "    stemmed_tokens = [stemmer_obj.stemWord(token) for token in tokens]\n",
    "\n",
    "    # Join the stemmed tokens back into a single string\n",
    "    stemmed_text = ' '.join(stemmed_tokens)\n",
    "\n",
    "    return stemmed_text\n",
    "\n",
    "# Example text in English and French\n",
    "english_text = \"I am running in the beautiful gardens\"\n",
    "french_text = \"Je cours dans les beaux jardins\"\n",
    "\n",
    "# Apply Snowball stemming for English and French\n",
    "stemmed_english = snowball_stemming(english_text, lang='english')\n",
    "stemmed_french = snowball_stemming(french_text, lang='french')\n",
    "\n",
    "# Print the stemmed text\n",
    "print(\"Stemmed English Text:\", stemmed_english)\n",
    "print(\"Stemmed French Text:\", stemmed_french)"
   ]
  },
  {
   "cell_type": "markdown",
   "id": "523521a7",
   "metadata": {},
   "source": [
    "## Snowball Algorithm specifying unique stemming rules"
   ]
  },
  {
   "cell_type": "code",
   "execution_count": 16,
   "id": "4a5916d0",
   "metadata": {},
   "outputs": [
    {
     "name": "stdout",
     "output_type": "stream",
     "text": [
      "Original Text: running walks danced laughing walkers\n",
      "Custom Stemmed Text: runn walks danced laugh walk\n",
      "Snowball Stemmed Text: run walk danc laugh walker\n"
     ]
    }
   ],
   "source": [
    "from nltk.stem import SnowballStemmer\n",
    "from nltk.tokenize import word_tokenize\n",
    "\n",
    "# Define custom stemming rules\n",
    "def custom_stem(word):\n",
    "    # Add your custom stemming rules here\n",
    "    if word.endswith('ers'):\n",
    "        return word[:-3]  # Remove 'ers' suffix\n",
    "    elif word.endswith('ing'):\n",
    "        return word[:-3]  # Remove 'ing' suffix\n",
    "    else:\n",
    "        return word\n",
    "\n",
    "# Create an instance of the Snowball stemmer for English\n",
    "snowball_stemmer = SnowballStemmer(language='english')\n",
    "\n",
    "# Example text\n",
    "text = \"running walks danced laughing walkers\"\n",
    "\n",
    "# Tokenize the text\n",
    "tokens = word_tokenize(text)\n",
    "\n",
    "# Apply custom stemming to each token\n",
    "stemmed_tokens = [custom_stem(token) for token in tokens]\n",
    "\n",
    "# Alternatively, you can use the Snowball stemmer directly\n",
    "snowball_stemmed_tokens = [snowball_stemmer.stem(token) for token in tokens]\n",
    "\n",
    "# Join the stemmed tokens back into a single string\n",
    "stemmed_text = ' '.join(stemmed_tokens)\n",
    "snowball_stemmed_text = ' '.join(snowball_stemmed_tokens)\n",
    "\n",
    "# Print the stemmed text\n",
    "print(\"Original Text:\", text)\n",
    "print(\"Custom Stemmed Text:\", stemmed_text)\n",
    "print(\"Snowball Stemmed Text:\", snowball_stemmed_text)"
   ]
  },
  {
   "cell_type": "markdown",
   "id": "8269beab",
   "metadata": {},
   "source": [
    "### Lancaster Stemmer Algorithm\n",
    "\n",
    "#### The Lancaster Stemmer is known for its aggressive stemming behavior, which can sometimes result in stems that are more drastically truncated compared to the Porter and Snowball stemmers.\n",
    "\n",
    "#### It is faster and more aggressive than the Porter and Snowball stemmers but may produce stems that are less recognizable as real words.\n",
    "\n",
    "#### The Lancaster Stemmer is particularly useful in applications where speed and simplicity are prioritized over linguistic accuracy, such as information retrieval systems."
   ]
  },
  {
   "cell_type": "code",
   "execution_count": 19,
   "id": "dbf7f088",
   "metadata": {},
   "outputs": [],
   "source": [
    "from nltk.stem import LancasterStemmer\n",
    "\n",
    "# Initialize Lancaster Stemmer for English\n",
    "lancaster_stemmer = LancasterStemmer()\n",
    "\n",
    "# Tokenize and stem in one step\n",
    "lancaster_stemmed_text = [lancaster_stemmer.stem(token) for token in tokens]\n",
    "\n",
    "# Join the stemmed tokens back into a string\n",
    "lancaster_stemmed_text = ' '.join(lancaster_stemmed_text)"
   ]
  },
  {
   "cell_type": "code",
   "execution_count": 20,
   "id": "40decd72",
   "metadata": {},
   "outputs": [
    {
     "name": "stdout",
     "output_type": "stream",
     "text": [
      "\n",
      "Lancaster Stemmed Text:\n",
      "run walk dant laugh walk\n"
     ]
    }
   ],
   "source": [
    "print(\"\\nLancaster Stemmed Text:\")\n",
    "print(lancaster_stemmed_text)"
   ]
  },
  {
   "cell_type": "code",
   "execution_count": null,
   "id": "5aec9749",
   "metadata": {},
   "outputs": [],
   "source": []
  },
  {
   "cell_type": "code",
   "execution_count": null,
   "id": "feab9475",
   "metadata": {},
   "outputs": [],
   "source": []
  }
 ],
 "metadata": {
  "kernelspec": {
   "display_name": "Python 3 (ipykernel)",
   "language": "python",
   "name": "python3"
  },
  "language_info": {
   "codemirror_mode": {
    "name": "ipython",
    "version": 3
   },
   "file_extension": ".py",
   "mimetype": "text/x-python",
   "name": "python",
   "nbconvert_exporter": "python",
   "pygments_lexer": "ipython3",
   "version": "3.12.2"
  }
 },
 "nbformat": 4,
 "nbformat_minor": 5
}
