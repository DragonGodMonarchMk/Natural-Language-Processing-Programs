{
 "cells": [
  {
   "cell_type": "markdown",
   "id": "91bd3fab",
   "metadata": {},
   "source": [
    "## Replacing Pronouns - Replace the pronouns in text by the respective object names."
   ]
  },
  {
   "cell_type": "markdown",
   "id": "399a6034",
   "metadata": {},
   "source": [
    "### Using NLTK"
   ]
  },
  {
   "cell_type": "code",
   "execution_count": 1,
   "id": "06ad964f",
   "metadata": {},
   "outputs": [],
   "source": [
    "import nltk\n",
    "from nltk.tokenize import word_tokenize"
   ]
  },
  {
   "cell_type": "code",
   "execution_count": 2,
   "id": "258febbe",
   "metadata": {},
   "outputs": [
    {
     "name": "stderr",
     "output_type": "stream",
     "text": [
      "[nltk_data] Downloading package averaged_perceptron_tagger to\n",
      "[nltk_data]     C:\\Users\\dell\\AppData\\Roaming\\nltk_data...\n",
      "[nltk_data]   Package averaged_perceptron_tagger is already up-to-\n",
      "[nltk_data]       date!\n"
     ]
    },
    {
     "data": {
      "text/plain": [
       "True"
      ]
     },
     "execution_count": 2,
     "metadata": {},
     "output_type": "execute_result"
    }
   ],
   "source": [
    "nltk.download('averaged_perceptron_tagger')"
   ]
  },
  {
   "cell_type": "code",
   "execution_count": 3,
   "id": "143f33ad",
   "metadata": {},
   "outputs": [],
   "source": [
    "def replace_pronouns(text):\n",
    "    # Tokenize the text into words\n",
    "    words = word_tokenize(text)\n",
    "    \n",
    "    # Perform part-of-speech tagging to identify pronouns\n",
    "    tagged_words = nltk.pos_tag(words)\n",
    "    \n",
    "    # Dictionary to map pronouns to their respective object names\n",
    "    pronoun_mapping = {\n",
    "        'PRP': 'cat',\n",
    "        'PRP$': 'cat\\'s',\n",
    "    }\n",
    "    \n",
    "    # Replace pronouns with their respective object names\n",
    "    modified_text = []\n",
    "    for word, pos_tag in tagged_words:\n",
    "        if pos_tag in pronoun_mapping:\n",
    "            modified_text.append(pronoun_mapping[pos_tag])\n",
    "        else:\n",
    "            modified_text.append(word)\n",
    "    \n",
    "    # Join the modified words back into a single string\n",
    "    modified_text = ' '.join(modified_text)\n",
    "    return modified_text"
   ]
  },
  {
   "cell_type": "code",
   "execution_count": 4,
   "id": "dde61551",
   "metadata": {},
   "outputs": [
    {
     "name": "stdout",
     "output_type": "stream",
     "text": [
      "The cat sat on the windowsill , grooming cat lazily . cat stretched out cat's paws and yawned , blinking in the sunlight streaming through the window . Suddenly , a bird landed on the ledge outside , catching cat's attention . The cat 's ears perked up , and cat watched the bird intently .\n"
     ]
    }
   ],
   "source": [
    "# Test the function\n",
    "original_text = \"The cat sat on the windowsill, grooming itself lazily. It stretched out its paws and yawned, blinking in the sunlight streaming through the window. Suddenly, a bird landed on the ledge outside, catching its attention. The cat's ears perked up, and it watched the bird intently.\"\n",
    "modified_text = replace_pronouns(original_text)\n",
    "print(modified_text)"
   ]
  },
  {
   "cell_type": "markdown",
   "id": "e8300edb",
   "metadata": {},
   "source": [
    "### Using spaCy"
   ]
  },
  {
   "cell_type": "code",
   "execution_count": 5,
   "id": "62f9c86c",
   "metadata": {},
   "outputs": [],
   "source": [
    "import spacy"
   ]
  },
  {
   "cell_type": "code",
   "execution_count": 6,
   "id": "29a46072",
   "metadata": {},
   "outputs": [],
   "source": [
    "def replace_pronouns(text):\n",
    "    nlp = spacy.load(\"en_core_web_sm\")\n",
    "    doc = nlp(text)\n",
    "    \n",
    "    pronoun_mapping = {\n",
    "        \"PRON\": \"cat\",\n",
    "        \"PRON$\": \"cat's\",\n",
    "    }\n",
    "    \n",
    "    modified_text = []\n",
    "    for token in doc:\n",
    "        if token.pos_ in pronoun_mapping:\n",
    "            modified_text.append(pronoun_mapping[token.pos_])\n",
    "        else:\n",
    "            modified_text.append(token.text)\n",
    "    \n",
    "    return \" \".join(modified_text)"
   ]
  },
  {
   "cell_type": "code",
   "execution_count": 14,
   "id": "70fddbc0",
   "metadata": {},
   "outputs": [
    {
     "name": "stdout",
     "output_type": "stream",
     "text": [
      "The cat sat on the windowsill, grooming the cat lazily. It stretched out the cat's paws and yawned, blinking in the sunlight streaming through the window. Suddenly, a bird landed on the ledge outside, catching the cat's attention. The cat's ears perked up, and the cat watched the bird intently.\n"
     ]
    }
   ],
   "source": [
    "from functools import reduce\n",
    "\n",
    "def replace_pronouns(text):\n",
    "    \"\"\"\n",
    "    Replace pronouns in the text with their respective nouns.\n",
    "    \"\"\"\n",
    "    # Define a dictionary of pronoun replacements\n",
    "    pronoun_replacements = {\n",
    "        \"it\": \"the cat\",\n",
    "        \"its\": \"the cat's\",\n",
    "        \"it's\": \"the cat is\",\n",
    "        \"its paws\": \"the cat's paws\",\n",
    "        \"its attention\": \"the cat's attention\",\n",
    "        \"its ears\": \"the cat's ears\",\n",
    "        \"its paws\": \"the cat's paws\",\n",
    "        \"itself\": \"the cat\",\n",
    "        \"itself lazily\": \"the cat lazily\",\n",
    "        \"it stretched\": \"the cat stretched\",\n",
    "        \"it yawned\": \"the cat yawned\",\n",
    "        \"it blinked\": \"the cat blinked\",\n",
    "        \"it watched\": \"the cat watched\",\n",
    "        \"it's attention\": \"the cat's attention\",\n",
    "        \"it's paws\": \"the cat's paws\",\n",
    "        \"it's ears\": \"the cat's ears\",\n",
    "        \"it's paws\": \"the cat's paws\",\n",
    "    }\n",
    "\n",
    "    # Split the text into words\n",
    "    words = text.split()\n",
    "\n",
    "    # Replace pronouns with their respective nouns\n",
    "    replaced_words = [pronoun_replacements.get(word, word) for word in words]\n",
    "\n",
    "    # Join the words back into a string\n",
    "    replaced_text = \" \".join(replaced_words)\n",
    "\n",
    "    return replaced_text\n",
    "\n",
    "# Test the function\n",
    "original_text = \"The cat sat on the windowsill, grooming itself lazily. It stretched out its paws and yawned, blinking in the sunlight streaming through the window. Suddenly, a bird landed on the ledge outside, catching its attention. The cat's ears perked up, and it watched the bird intently.\"\n",
    "modified_text = replace_pronouns(original_text)\n",
    "print(modified_text)"
   ]
  },
  {
   "cell_type": "code",
   "execution_count": 8,
   "id": "ffb00076",
   "metadata": {},
   "outputs": [],
   "source": [
    "def replace_pronouns(sentence, pronoun_dict):\n",
    "    words = sentence.split()\n",
    "    replaced_sentence = []\n",
    "    for word in words:\n",
    "        if word.lower() in pronoun_dict:\n",
    "            replaced_sentence.append(pronoun_dict[word.lower()])\n",
    "        else:\n",
    "            replaced_sentence.append(word)\n",
    "    return ' '.join(replaced_sentence)"
   ]
  },
  {
   "cell_type": "code",
   "execution_count": 9,
   "id": "6492eb2d",
   "metadata": {},
   "outputs": [],
   "source": [
    "# Dictionary mapping pronouns to object names\n",
    "pronoun_dict = {\n",
    "    'he': 'John',\n",
    "    'she': 'Mary',\n",
    "    'it': 'the cat',\n",
    "    'they': 'the team',\n",
    "    'them': 'the books'\n",
    "}"
   ]
  },
  {
   "cell_type": "code",
   "execution_count": 10,
   "id": "6ad4bd17",
   "metadata": {},
   "outputs": [],
   "source": [
    "# Example sentence with pronouns\n",
    "sentence = \"She gave it to him.\""
   ]
  },
  {
   "cell_type": "code",
   "execution_count": 11,
   "id": "ef192a19",
   "metadata": {},
   "outputs": [],
   "source": [
    "# Replace pronouns with object names\n",
    "replaced_sentence = replace_pronouns(sentence, pronoun_dict)"
   ]
  },
  {
   "cell_type": "code",
   "execution_count": 12,
   "id": "1a924673",
   "metadata": {},
   "outputs": [
    {
     "name": "stdout",
     "output_type": "stream",
     "text": [
      "Original Sentence: She gave it to him.\n",
      "Replaced Sentence: Mary gave the cat to him.\n"
     ]
    }
   ],
   "source": [
    "print(\"Original Sentence:\", sentence)\n",
    "print(\"Replaced Sentence:\", replaced_sentence)"
   ]
  }
 ],
 "metadata": {
  "kernelspec": {
   "display_name": "Python 3 (ipykernel)",
   "language": "python",
   "name": "python3"
  },
  "language_info": {
   "codemirror_mode": {
    "name": "ipython",
    "version": 3
   },
   "file_extension": ".py",
   "mimetype": "text/x-python",
   "name": "python",
   "nbconvert_exporter": "python",
   "pygments_lexer": "ipython3",
   "version": "3.12.2"
  }
 },
 "nbformat": 4,
 "nbformat_minor": 5
}
