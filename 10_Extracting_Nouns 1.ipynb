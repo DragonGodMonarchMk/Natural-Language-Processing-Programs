{
 "cells": [
  {
   "cell_type": "markdown",
   "id": "c394153e-a54e-4301-afc9-7c0acb646ac0",
   "metadata": {},
   "source": [
    "### Extracting Nouns - Extract and print all the nouns present in the text."
   ]
  },
  {
   "cell_type": "code",
   "execution_count": 1,
   "id": "217cce1f-8c40-4426-9ea3-c2bc0f42c896",
   "metadata": {},
   "outputs": [],
   "source": [
    "import nltk\n",
    "from nltk import pos_tag, word_tokenize"
   ]
  },
  {
   "cell_type": "code",
   "execution_count": 2,
   "id": "753b38c1-67f4-45db-bd97-7eaefa4e2b09",
   "metadata": {},
   "outputs": [
    {
     "name": "stderr",
     "output_type": "stream",
     "text": [
      "[nltk_data] Downloading package punkt to\n",
      "[nltk_data]     C:\\Users\\dell\\AppData\\Roaming\\nltk_data...\n",
      "[nltk_data]   Package punkt is already up-to-date!\n",
      "[nltk_data] Downloading package averaged_perceptron_tagger to\n",
      "[nltk_data]     C:\\Users\\dell\\AppData\\Roaming\\nltk_data...\n",
      "[nltk_data]   Package averaged_perceptron_tagger is already up-to-\n",
      "[nltk_data]       date!\n"
     ]
    },
    {
     "data": {
      "text/plain": [
       "True"
      ]
     },
     "execution_count": 2,
     "metadata": {},
     "output_type": "execute_result"
    }
   ],
   "source": [
    "nltk.download('punkt')\n",
    "nltk.download('averaged_perceptron_tagger')"
   ]
  },
  {
   "cell_type": "code",
   "execution_count": 3,
   "id": "da6c7c6e-aa83-46eb-bae6-5974a469d8f5",
   "metadata": {},
   "outputs": [],
   "source": [
    "def extract_nouns(text):\n",
    "    # Tokenize the text\n",
    "    words = word_tokenize(text)\n",
    "\n",
    "    # Perform part-of-speech tagging\n",
    "    tagged_words = pos_tag(words)\n",
    "\n",
    "    # Extract nouns (NN, NNS, NNPS, and NNP tags)\n",
    "    nouns = [word for word, pos in tagged_words if pos.startswith('NN')]\n",
    "\n",
    "    return nouns"
   ]
  },
  {
   "cell_type": "code",
   "execution_count": 4,
   "id": "4f98231c-b8ee-4357-b31c-609b5adc62a0",
   "metadata": {},
   "outputs": [
    {
     "name": "stdout",
     "output_type": "stream",
     "text": [
      "Nouns in the text:\n",
      "['input', 'text', 'text']\n"
     ]
    }
   ],
   "source": [
    "# Example usage:\n",
    "text_to_analyze = \"Your input text goes here. Replace it with the actual text you want to analyze.\"\n",
    "\n",
    "nouns_result = extract_nouns(text_to_analyze)\n",
    "\n",
    "print(\"Nouns in the text:\")\n",
    "print(nouns_result)"
   ]
  },
  {
   "cell_type": "code",
   "execution_count": null,
   "id": "6848231d-4d36-45d6-bfe5-1c2003dfde4d",
   "metadata": {},
   "outputs": [],
   "source": []
  }
 ],
 "metadata": {
  "kernelspec": {
   "display_name": "Python 3 (ipykernel)",
   "language": "python",
   "name": "python3"
  },
  "language_info": {
   "codemirror_mode": {
    "name": "ipython",
    "version": 3
   },
   "file_extension": ".py",
   "mimetype": "text/x-python",
   "name": "python",
   "nbconvert_exporter": "python",
   "pygments_lexer": "ipython3",
   "version": "3.12.2"
  }
 },
 "nbformat": 4,
 "nbformat_minor": 5
}
