{
 "cells": [
  {
   "cell_type": "markdown",
   "metadata": {
    "id": "IdyE5ucI8JVT"
   },
   "source": [
    "# Merging two tokens as one using spaCy"
   ]
  },
  {
   "cell_type": "code",
   "execution_count": 1,
   "metadata": {
    "id": "s0fgkoI2fPzS"
   },
   "outputs": [],
   "source": [
    "import spacy\n",
    "\n",
    "# Load English tokenizer, tagger, parser, NER\n",
    "nlp = spacy.load(\"en_core_web_sm\")"
   ]
  },
  {
   "cell_type": "code",
   "execution_count": 2,
   "metadata": {
    "id": "bmoIoF_Y74kU"
   },
   "outputs": [],
   "source": [
    "# Input sentence\n",
    "sentence = \"Jack Will is a software engineer.\""
   ]
  },
  {
   "cell_type": "code",
   "execution_count": 3,
   "metadata": {
    "id": "Fsmzekn38ZJD"
   },
   "outputs": [],
   "source": [
    "# Process the sentence with spaCy\n",
    "doc = nlp(sentence)\n",
    "\n",
    "# Initialize variables to store first name and last name\n",
    "first_name = \"\"\n",
    "last_name = \"\""
   ]
  },
  {
   "cell_type": "code",
   "execution_count": 4,
   "metadata": {
    "id": "KM1cKwfS8dKx"
   },
   "outputs": [],
   "source": [
    "# Iterate through named entities\n",
    "for ent in doc.ents:\n",
    "    if ent.label_ == \"PERSON\":\n",
    "        # Split full name into first name and last name\n",
    "        name_parts = ent.text.split()\n",
    "        if len(name_parts) >= 2:\n",
    "            first_name = name_parts[0]\n",
    "            last_name = name_parts[-1]\n",
    "            break"
   ]
  },
  {
   "cell_type": "code",
   "execution_count": 5,
   "metadata": {
    "colab": {
     "base_uri": "https://localhost:8080/"
    },
    "id": "NMyoz8k88fh-",
    "outputId": "9dcf56ed-86b7-4303-f946-bd5d4e0479e3"
   },
   "outputs": [
    {
     "name": "stdout",
     "output_type": "stream",
     "text": [
      "Original sentence: Jack Will is a software engineer.\n",
      "Modified sentence: JackWill is a software engineer.\n"
     ]
    }
   ],
   "source": [
    "# Merge first name and last name into a single token\n",
    "merged_token = first_name + last_name\n",
    "\n",
    "# Replace the first name and last name with the merged token in the original sentence\n",
    "modified_sentence = sentence.replace(first_name + \" \" + last_name, merged_token)\n",
    "\n",
    "print(\"Original sentence:\", sentence)\n",
    "print(\"Modified sentence:\", modified_sentence)"
   ]
  },
  {
   "cell_type": "markdown",
   "metadata": {
    "id": "HSifjv2V8h3a"
   },
   "source": [
    "# Merging two tokens as one using NLTK"
   ]
  },
  {
   "cell_type": "code",
   "execution_count": 6,
   "metadata": {
    "colab": {
     "base_uri": "https://localhost:8080/"
    },
    "id": "_nv_rIi58pdS",
    "outputId": "aa0673ca-5985-483e-eab4-9a88d6863358"
   },
   "outputs": [
    {
     "name": "stderr",
     "output_type": "stream",
     "text": [
      "[nltk_data] Downloading package punkt to\n",
      "[nltk_data]     C:\\Users\\dell\\AppData\\Roaming\\nltk_data...\n",
      "[nltk_data]   Package punkt is already up-to-date!\n",
      "[nltk_data] Downloading package averaged_perceptron_tagger to\n",
      "[nltk_data]     C:\\Users\\dell\\AppData\\Roaming\\nltk_data...\n",
      "[nltk_data]   Package averaged_perceptron_tagger is already up-to-\n",
      "[nltk_data]       date!\n"
     ]
    },
    {
     "data": {
      "text/plain": [
       "True"
      ]
     },
     "execution_count": 6,
     "metadata": {},
     "output_type": "execute_result"
    }
   ],
   "source": [
    "import nltk\n",
    "from nltk.tokenize import word_tokenize\n",
    "from nltk.tag import pos_tag\n",
    "\n",
    "nltk.download('punkt')\n",
    "nltk.download('averaged_perceptron_tagger')"
   ]
  },
  {
   "cell_type": "code",
   "execution_count": 7,
   "metadata": {
    "id": "TcqZBJltPCZw"
   },
   "outputs": [],
   "source": [
    "# Input sentence\n",
    "sentence = \"John Doe is a software engineer.\""
   ]
  },
  {
   "cell_type": "code",
   "execution_count": 8,
   "metadata": {
    "id": "fKzSTtKBSq_p"
   },
   "outputs": [],
   "source": [
    "# Tokenize the sentence\n",
    "tokens = word_tokenize(sentence)\n",
    "\n",
    "# Perform PoS tagging\n",
    "pos_tags = pos_tag(tokens)"
   ]
  },
  {
   "cell_type": "code",
   "execution_count": 9,
   "metadata": {
    "id": "C4DM8h-4StgE"
   },
   "outputs": [],
   "source": [
    "# Modify the sentence directly (without NER)\n",
    "for i, (word, tag) in enumerate(pos_tags):\n",
    "  if tag in ('NNP', 'NNPS'):  # Check for proper nouns (singular and plural)\n",
    "    # If it's the first name, combine with the next word (assuming last name)\n",
    "    if i < len(tokens) - 1 and pos_tags[i + 1][1] in ('NNP', 'NNPS'):\n",
    "      tokens[i] = word + tokens[i + 1]\n",
    "      del tokens[i + 1]  # Remove the following word (assumed last name)\n",
    "\n",
    "# Construct the modified sentence\n",
    "modified_sentence = \" \".join(tokens)"
   ]
  },
  {
   "cell_type": "code",
   "execution_count": 10,
   "metadata": {
    "colab": {
     "base_uri": "https://localhost:8080/"
    },
    "id": "eBI4Qu4XSvWD",
    "outputId": "f0173545-c979-4087-a9e3-520c87175c24"
   },
   "outputs": [
    {
     "name": "stdout",
     "output_type": "stream",
     "text": [
      "Original sentence: John Doe is a software engineer.\n",
      "Modified sentence: JohnDoe is a software engineer .\n"
     ]
    }
   ],
   "source": [
    "print(\"Original sentence:\", sentence)\n",
    "print(\"Modified sentence:\", modified_sentence)"
   ]
  },
  {
   "cell_type": "code",
   "execution_count": null,
   "metadata": {
    "id": "dmqCSL0zSw_n"
   },
   "outputs": [],
   "source": []
  }
 ],
 "metadata": {
  "colab": {
   "provenance": []
  },
  "kernelspec": {
   "display_name": "Python 3 (ipykernel)",
   "language": "python",
   "name": "python3"
  },
  "language_info": {
   "codemirror_mode": {
    "name": "ipython",
    "version": 3
   },
   "file_extension": ".py",
   "mimetype": "text/x-python",
   "name": "python",
   "nbconvert_exporter": "python",
   "pygments_lexer": "ipython3",
   "version": "3.12.2"
  }
 },
 "nbformat": 4,
 "nbformat_minor": 1
}
