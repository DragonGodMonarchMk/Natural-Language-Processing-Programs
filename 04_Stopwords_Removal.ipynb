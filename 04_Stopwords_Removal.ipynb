{
 "cells": [
  {
   "cell_type": "markdown",
   "id": "60cb5611-b87e-4cd1-aeb8-7594c00f2221",
   "metadata": {},
   "source": [
    "### Importing libraries"
   ]
  },
  {
   "cell_type": "code",
   "execution_count": 1,
   "id": "febee6f4-adf3-4127-837f-814b6b9c7c59",
   "metadata": {},
   "outputs": [],
   "source": [
    "import nltk\n",
    "from nltk.tokenize import word_tokenize\n",
    "from nltk.corpus import stopwords\n",
    "import string"
   ]
  },
  {
   "cell_type": "code",
   "execution_count": 2,
   "id": "f91cde17-6ecd-41eb-aaf1-9ad097b5eadc",
   "metadata": {},
   "outputs": [
    {
     "name": "stderr",
     "output_type": "stream",
     "text": [
      "[nltk_data] Downloading package punkt to\n",
      "[nltk_data]     C:\\Users\\dell\\AppData\\Roaming\\nltk_data...\n",
      "[nltk_data]   Package punkt is already up-to-date!\n",
      "[nltk_data] Downloading package stopwords to\n",
      "[nltk_data]     C:\\Users\\dell\\AppData\\Roaming\\nltk_data...\n",
      "[nltk_data]   Package stopwords is already up-to-date!\n"
     ]
    },
    {
     "data": {
      "text/plain": [
       "True"
      ]
     },
     "execution_count": 2,
     "metadata": {},
     "output_type": "execute_result"
    }
   ],
   "source": [
    "nltk.download('punkt')  # Download the necessary resource for tokenization\n",
    "nltk.download('stopwords')  # Download the stopwords corpus"
   ]
  },
  {
   "cell_type": "markdown",
   "id": "abad4109-40d3-4dbf-8142-a4bb19529253",
   "metadata": {},
   "source": [
    "### Python function for removing stopwords and printing output as tokens"
   ]
  },
  {
   "cell_type": "code",
   "execution_count": 3,
   "id": "0433cf43-857c-4977-bdc1-cfaba5a40a54",
   "metadata": {},
   "outputs": [],
   "source": [
    "def tokenize_text_with_stopwords(text):\n",
    "    stop_words = set(stopwords.words('english'))\n",
    "    tokens = word_tokenize(text)\n",
    "    filtered_tokens = [word for word in tokens if word.lower() not in stop_words]\n",
    "    return filtered_tokens"
   ]
  },
  {
   "cell_type": "code",
   "execution_count": 4,
   "id": "116aa65c-3542-4005-beea-3e58faaf98aa",
   "metadata": {},
   "outputs": [],
   "source": [
    "text_document = \"Tokenizing the text with stop words such as is, the, and was as delimiters should identify meaningful phrases.\""
   ]
  },
  {
   "cell_type": "code",
   "execution_count": 5,
   "id": "b9d6cbc1-4ae3-460f-81e2-7a45b02131a1",
   "metadata": {},
   "outputs": [
    {
     "name": "stdout",
     "output_type": "stream",
     "text": [
      "Tokens: ['Tokenizing', 'text', 'stop', 'words', ',', ',', 'delimiters', 'identify', 'meaningful', 'phrases', '.']\n"
     ]
    }
   ],
   "source": [
    "tokens = tokenize_text_with_stopwords(text_document)\n",
    "\n",
    "print(\"Tokens:\", tokens)"
   ]
  },
  {
   "cell_type": "markdown",
   "id": "21dd1169-104f-4326-9528-b4dd3b33a85d",
   "metadata": {},
   "source": [
    "### Performing stopword removal on a text document and printing output as tokens"
   ]
  },
  {
   "cell_type": "code",
   "execution_count": 6,
   "id": "2bcde5c8-1d7d-4a62-8f00-fff16f2331bd",
   "metadata": {},
   "outputs": [],
   "source": [
    "def tokenize_text_file_stopwords(file_path):\n",
    "    with open(file_path, 'r', encoding='utf-8') as file:\n",
    "        text = file.read()\n",
    "        tokens = tokenize_text_with_stopwords(text)\n",
    "    return tokens"
   ]
  },
  {
   "cell_type": "code",
   "execution_count": 7,
   "id": "8aa7b3f6-f240-4c9e-b181-6c2d2cde8482",
   "metadata": {},
   "outputs": [
    {
     "name": "stdout",
     "output_type": "stream",
     "text": [
      "Tokens: ['good', 'morning', '!', 'Good', 'morning', 'ye', 'thou', '!', '’', 'say', 'patients', ',', 'worse', 'hypocrites', ',', 'hypocrites', ',', 'cruel', 'phony', 'hypocrites', ',', 'worst', '.', '”']\n"
     ]
    }
   ],
   "source": [
    "file_path = 'demo.txt'\n",
    "\n",
    "tokens = tokenize_text_file_stopwords(file_path)\n",
    "print(\"Tokens:\", tokens)"
   ]
  },
  {
   "cell_type": "markdown",
   "id": "740dcff9-3781-470d-8048-041bfb5f4b59",
   "metadata": {},
   "source": [
    "### Python function for removing stopwords and punctuation and printing output as tokens"
   ]
  },
  {
   "cell_type": "code",
   "execution_count": 8,
   "id": "74dde974-8407-443c-b584-e908ca167374",
   "metadata": {},
   "outputs": [],
   "source": [
    "def tokenize_text_without_punctuation(text):\n",
    "    stop_words = set(stopwords.words('english'))\n",
    "    tokens = word_tokenize(text)\n",
    "    filtered_tokens = [word for word in tokens if word.lower() not in stop_words and word not in string.punctuation]\n",
    "    return filtered_tokens"
   ]
  },
  {
   "cell_type": "code",
   "execution_count": 9,
   "id": "77d0c541-51a3-4682-adcb-4ee4d8abbc1f",
   "metadata": {},
   "outputs": [
    {
     "name": "stdout",
     "output_type": "stream",
     "text": [
      "Tokens: ['Tokenizing', 'text', 'stop', 'words', 'delimiters', 'identify', 'meaningful', 'phrases']\n"
     ]
    }
   ],
   "source": [
    "text_document = \"Tokenizing the text, with stop words such as is, the, and was, as delimiters should identify meaningful phrases.\"\n",
    "\n",
    "tokens = tokenize_text_without_punctuation(text_document)\n",
    "\n",
    "print('Tokens:', tokens)"
   ]
  },
  {
   "cell_type": "markdown",
   "id": "b72cc318-5d96-4889-b812-0b630aa8215f",
   "metadata": {},
   "source": [
    "### Removing stopwords and punctuation on a text document and printing output as tokens"
   ]
  },
  {
   "cell_type": "code",
   "execution_count": 10,
   "id": "321b9c0f-98c6-4786-bff1-f0639b988f7c",
   "metadata": {},
   "outputs": [],
   "source": [
    "def tokenize_text_file_stopwords_punctuation(file_path):\n",
    "    with open(file_path, 'r', encoding='utf-8') as file:\n",
    "        text = file.read()\n",
    "        stop_words = set(stopwords.words('english'))\n",
    "        tokens = tokenize_text_with_stopwords(text)\n",
    "        filtered_tokens = [word for word in tokens if word.lower() not in stop_words and word not in string.punctuation]\n",
    "    return filtered_tokens"
   ]
  },
  {
   "cell_type": "code",
   "execution_count": 11,
   "id": "cc0fb68f-d815-4871-96dd-9e3ccd812391",
   "metadata": {},
   "outputs": [
    {
     "name": "stdout",
     "output_type": "stream",
     "text": [
      "Tokens: ['good', 'morning', 'Good', 'morning', 'ye', 'thou', '’', 'say', 'patients', 'worse', 'hypocrites', 'hypocrites', 'cruel', 'phony', 'hypocrites', 'worst', '”']\n"
     ]
    }
   ],
   "source": [
    "file_path = 'demo.txt'\n",
    "\n",
    "tokens = tokenize_text_file_stopwords_punctuation(file_path)\n",
    "print(\"Tokens:\", tokens)"
   ]
  },
  {
   "cell_type": "markdown",
   "id": "044afc7a-2440-4e48-86fe-2fe758a7e3c8",
   "metadata": {},
   "source": [
    "### Python function for removing stopwords and printing output as a sentence"
   ]
  },
  {
   "cell_type": "code",
   "execution_count": 12,
   "id": "9ac10f43-8bbd-4f51-a9db-abbc0f1626c7",
   "metadata": {},
   "outputs": [],
   "source": [
    "def remove_stopwords_without_tokenizing(text):\n",
    "    stop_words = set(stopwords.words('english'))\n",
    "    filtered_text = ' '.join(word for word in text.split() if word.lower() not in stop_words)\n",
    "    return filtered_text"
   ]
  },
  {
   "cell_type": "code",
   "execution_count": 13,
   "id": "d5dc00bb-b57f-4bdb-9463-2bb33fbaf325",
   "metadata": {},
   "outputs": [
    {
     "name": "stdout",
     "output_type": "stream",
     "text": [
      "Tokens: example sentence demonstrating stop word removal. stop words removed\n"
     ]
    }
   ],
   "source": [
    "text = \"This is an example sentence demonstrating stop word removal. Here all the stop words are removed\"\n",
    "filtered_text = remove_stopwords_without_tokenizing(text)\n",
    "print(\"Tokens:\", filtered_text)"
   ]
  },
  {
   "cell_type": "markdown",
   "id": "728ddc37-4d36-4cce-90f5-cd3422fc64f1",
   "metadata": {},
   "source": [
    "### Performing stopword removal on a text document and printing output as a sentence"
   ]
  },
  {
   "cell_type": "code",
   "execution_count": 14,
   "id": "85206a3a-62df-473d-9f86-b45e0e552d44",
   "metadata": {},
   "outputs": [],
   "source": [
    "def remove_stopwords_without_tokenizing_on_document(text):\n",
    "    with open(file_path, 'r', encoding='utf-8') as file:\n",
    "        text = file.read()\n",
    "        stop_words = set(stopwords.words('english'))\n",
    "        filtered_text = ' '.join(word for word in text.split() if word.lower() not in stop_words)\n",
    "    return filtered_text"
   ]
  },
  {
   "cell_type": "code",
   "execution_count": 15,
   "id": "8a7f16b4-3c3b-4033-8c00-8a248e02aa5c",
   "metadata": {},
   "outputs": [
    {
     "name": "stdout",
     "output_type": "stream",
     "text": [
      "Tokens: good morning! Good morning ye thou! I’d say patients, worse hypocrites, hypocrites, cruel phony hypocrites, worst.”\n"
     ]
    }
   ],
   "source": [
    "file_path = \"demo.txt\"\n",
    "filtered_text = remove_stopwords_without_tokenizing_on_document(file_path)\n",
    "print(\"Tokens:\", filtered_text)"
   ]
  }
 ],
 "metadata": {
  "kernelspec": {
   "display_name": "Python 3 (ipykernel)",
   "language": "python",
   "name": "python3"
  },
  "language_info": {
   "codemirror_mode": {
    "name": "ipython",
    "version": 3
   },
   "file_extension": ".py",
   "mimetype": "text/x-python",
   "name": "python",
   "nbconvert_exporter": "python",
   "pygments_lexer": "ipython3",
   "version": "3.12.2"
  }
 },
 "nbformat": 4,
 "nbformat_minor": 5
}
