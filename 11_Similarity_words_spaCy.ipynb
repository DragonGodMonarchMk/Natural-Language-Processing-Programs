{
 "cells": [
  {
   "cell_type": "markdown",
   "id": "0d392f36",
   "metadata": {},
   "source": [
    "## Step 1: Load SpaCy and Pre-trained Word Vectors"
   ]
  },
  {
   "cell_type": "code",
   "execution_count": 4,
   "id": "bc7faf3f",
   "metadata": {},
   "outputs": [],
   "source": [
    "import spacy\n",
    "\n",
    "# Load spaCy with pre-trained word vectors (GloVe)\n",
    "try:\n",
    "    nlp = spacy.load(\"en_core_web_md\")\n",
    "except OSError:\n",
    "    import subprocess\n",
    "    subprocess.run([\"python\", \"-m\", \"spacy\", \"download\", \"en_core_web_md\"])\n",
    "    nlp = spacy.load(\"en_core_web_md\")"
   ]
  },
  {
   "cell_type": "markdown",
   "id": "ce018efb",
   "metadata": {},
   "source": [
    "## Step 2: Define Function to Calculate Similarity"
   ]
  },
  {
   "cell_type": "code",
   "execution_count": 5,
   "id": "2add9540",
   "metadata": {},
   "outputs": [],
   "source": [
    "def word_similarity(word1, word2):\n",
    "    token1 = nlp(word1)\n",
    "    token2 = nlp(word2)\n",
    "    similarity_score = token1.similarity(token2)\n",
    "    return similarity_score"
   ]
  },
  {
   "cell_type": "markdown",
   "id": "ac2ffe0e",
   "metadata": {},
   "source": [
    "## Step 3: Example Usage"
   ]
  },
  {
   "cell_type": "code",
   "execution_count": 6,
   "id": "03b65b7f",
   "metadata": {},
   "outputs": [
    {
     "name": "stdout",
     "output_type": "stream",
     "text": [
      "Similarity between 'sad' and 'happy': 0.5034751138271376\n"
     ]
    }
   ],
   "source": [
    "word1 = \"sad\"\n",
    "word2 = \"happy\"\n",
    "\n",
    "similarity = word_similarity(word1, word2)\n",
    "print(f\"Similarity between '{word1}' and '{word2}': {similarity}\")"
   ]
  },
  {
   "cell_type": "code",
   "execution_count": null,
   "id": "0f6a3393",
   "metadata": {},
   "outputs": [],
   "source": []
  }
 ],
 "metadata": {
  "kernelspec": {
   "display_name": "Python 3 (ipykernel)",
   "language": "python",
   "name": "python3"
  },
  "language_info": {
   "codemirror_mode": {
    "name": "ipython",
    "version": 3
   },
   "file_extension": ".py",
   "mimetype": "text/x-python",
   "name": "python",
   "nbconvert_exporter": "python",
   "pygments_lexer": "ipython3",
   "version": "3.12.2"
  }
 },
 "nbformat": 4,
 "nbformat_minor": 5
}
