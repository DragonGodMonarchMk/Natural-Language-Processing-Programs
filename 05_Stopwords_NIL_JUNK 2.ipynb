{
 "cells": [
  {
   "cell_type": "code",
   "execution_count": 8,
   "metadata": {},
   "outputs": [
    {
     "name": "stdout",
     "output_type": "stream",
     "text": [
      "Collecting en-core-web-sm==3.7.1\n",
      "  Downloading https://github.com/explosion/spacy-models/releases/download/en_core_web_sm-3.7.1/en_core_web_sm-3.7.1-py3-none-any.whl (12.8 MB)\n",
      "     ---------------------------------------- 0.0/12.8 MB ? eta -:--:--\n",
      "      --------------------------------------- 0.3/12.8 MB 1.7 MB/s eta 0:00:08\n",
      "     - -------------------------------------- 0.5/12.8 MB 1.7 MB/s eta 0:00:09\n",
      "     -- ------------------------------------- 0.7/12.8 MB 1.5 MB/s eta 0:00:08\n",
      "     -- ------------------------------------- 0.8/12.8 MB 1.4 MB/s eta 0:00:09\n",
      "     -- ------------------------------------- 0.9/12.8 MB 1.4 MB/s eta 0:00:09\n",
      "     --- ------------------------------------ 1.1/12.8 MB 1.4 MB/s eta 0:00:09\n",
      "     --- ------------------------------------ 1.2/12.8 MB 1.4 MB/s eta 0:00:09\n",
      "     ---- ----------------------------------- 1.4/12.8 MB 1.4 MB/s eta 0:00:09\n",
      "     ---- ----------------------------------- 1.6/12.8 MB 1.3 MB/s eta 0:00:09\n",
      "     ----- ---------------------------------- 1.6/12.8 MB 1.3 MB/s eta 0:00:09\n",
      "     ----- ---------------------------------- 1.8/12.8 MB 1.3 MB/s eta 0:00:09\n",
      "     ----- ---------------------------------- 1.9/12.8 MB 1.3 MB/s eta 0:00:09\n",
      "     ------ --------------------------------- 2.0/12.8 MB 1.3 MB/s eta 0:00:09\n",
      "     ------ --------------------------------- 2.2/12.8 MB 1.3 MB/s eta 0:00:09\n",
      "     ------- -------------------------------- 2.3/12.8 MB 1.3 MB/s eta 0:00:08\n",
      "     -------- ------------------------------- 2.6/12.8 MB 1.3 MB/s eta 0:00:08\n",
      "     -------- ------------------------------- 2.7/12.8 MB 1.3 MB/s eta 0:00:08\n",
      "     -------- ------------------------------- 2.9/12.8 MB 1.3 MB/s eta 0:00:08\n",
      "     --------- ------------------------------ 3.0/12.8 MB 1.3 MB/s eta 0:00:08\n",
      "     --------- ------------------------------ 3.1/12.8 MB 1.3 MB/s eta 0:00:08\n",
      "     ---------- ----------------------------- 3.2/12.8 MB 1.3 MB/s eta 0:00:08\n",
      "     ---------- ----------------------------- 3.3/12.8 MB 1.3 MB/s eta 0:00:08\n",
      "     ----------- ---------------------------- 3.5/12.8 MB 1.3 MB/s eta 0:00:08\n",
      "     ----------- ---------------------------- 3.7/12.8 MB 1.3 MB/s eta 0:00:08\n",
      "     ------------ --------------------------- 3.9/12.8 MB 1.3 MB/s eta 0:00:07\n",
      "     ------------- -------------------------- 4.2/12.8 MB 1.3 MB/s eta 0:00:07\n",
      "     ------------- -------------------------- 4.2/12.8 MB 1.3 MB/s eta 0:00:07\n",
      "     ------------- -------------------------- 4.4/12.8 MB 1.3 MB/s eta 0:00:07\n",
      "     -------------- ------------------------- 4.6/12.8 MB 1.3 MB/s eta 0:00:07\n",
      "     -------------- ------------------------- 4.7/12.8 MB 1.3 MB/s eta 0:00:07\n",
      "     --------------- ------------------------ 5.0/12.8 MB 1.3 MB/s eta 0:00:07\n",
      "     ---------------- ----------------------- 5.2/12.8 MB 1.3 MB/s eta 0:00:07\n",
      "     ---------------- ----------------------- 5.4/12.8 MB 1.3 MB/s eta 0:00:06\n",
      "     ----------------- ---------------------- 5.5/12.8 MB 1.3 MB/s eta 0:00:06\n",
      "     ----------------- ---------------------- 5.7/12.8 MB 1.3 MB/s eta 0:00:06\n",
      "     ------------------ --------------------- 5.8/12.8 MB 1.3 MB/s eta 0:00:06\n",
      "     ------------------ --------------------- 5.9/12.8 MB 1.3 MB/s eta 0:00:06\n",
      "     ------------------- -------------------- 6.1/12.8 MB 1.3 MB/s eta 0:00:06\n",
      "     ------------------- -------------------- 6.3/12.8 MB 1.3 MB/s eta 0:00:06\n",
      "     -------------------- ------------------- 6.4/12.8 MB 1.3 MB/s eta 0:00:06\n",
      "     -------------------- ------------------- 6.6/12.8 MB 1.3 MB/s eta 0:00:05\n",
      "     -------------------- ------------------- 6.7/12.8 MB 1.3 MB/s eta 0:00:05\n",
      "     --------------------- ------------------ 6.8/12.8 MB 1.3 MB/s eta 0:00:05\n",
      "     --------------------- ------------------ 7.0/12.8 MB 1.3 MB/s eta 0:00:05\n",
      "     ---------------------- ----------------- 7.1/12.8 MB 1.3 MB/s eta 0:00:05\n",
      "     ---------------------- ----------------- 7.3/12.8 MB 1.3 MB/s eta 0:00:05\n",
      "     ----------------------- ---------------- 7.4/12.8 MB 1.3 MB/s eta 0:00:05\n",
      "     ----------------------- ---------------- 7.6/12.8 MB 1.3 MB/s eta 0:00:05\n",
      "     ------------------------ --------------- 7.8/12.8 MB 1.3 MB/s eta 0:00:05\n",
      "     ------------------------ --------------- 7.9/12.8 MB 1.3 MB/s eta 0:00:04\n",
      "     ------------------------- -------------- 8.1/12.8 MB 1.3 MB/s eta 0:00:04\n",
      "     ------------------------- -------------- 8.3/12.8 MB 1.3 MB/s eta 0:00:04\n",
      "     -------------------------- ------------- 8.3/12.8 MB 1.3 MB/s eta 0:00:04\n",
      "     -------------------------- ------------- 8.4/12.8 MB 1.3 MB/s eta 0:00:04\n",
      "     -------------------------- ------------- 8.5/12.8 MB 1.3 MB/s eta 0:00:04\n",
      "     -------------------------- ------------- 8.5/12.8 MB 1.3 MB/s eta 0:00:04\n",
      "     -------------------------- ------------- 8.6/12.8 MB 1.3 MB/s eta 0:00:04\n",
      "     -------------------------- ------------- 8.6/12.8 MB 1.3 MB/s eta 0:00:04\n",
      "     --------------------------- ------------ 8.7/12.8 MB 1.3 MB/s eta 0:00:04\n",
      "     --------------------------- ------------ 8.7/12.8 MB 1.3 MB/s eta 0:00:04\n",
      "     --------------------------- ------------ 8.8/12.8 MB 1.3 MB/s eta 0:00:04\n",
      "     --------------------------- ------------ 8.8/12.8 MB 1.3 MB/s eta 0:00:04\n",
      "     --------------------------- ------------ 8.9/12.8 MB 1.3 MB/s eta 0:00:04\n",
      "     ---------------------------- ----------- 9.1/12.8 MB 1.3 MB/s eta 0:00:03\n",
      "     ---------------------------- ----------- 9.2/12.8 MB 1.3 MB/s eta 0:00:03\n",
      "     ----------------------------- ---------- 9.4/12.8 MB 1.3 MB/s eta 0:00:03\n",
      "     ----------------------------- ---------- 9.5/12.8 MB 1.3 MB/s eta 0:00:03\n",
      "     ----------------------------- ---------- 9.6/12.8 MB 1.3 MB/s eta 0:00:03\n",
      "     ------------------------------ --------- 9.7/12.8 MB 1.3 MB/s eta 0:00:03\n",
      "     ------------------------------ --------- 9.9/12.8 MB 1.3 MB/s eta 0:00:03\n",
      "     ------------------------------- -------- 10.0/12.8 MB 1.3 MB/s eta 0:00:03\n",
      "     ------------------------------- -------- 10.1/12.8 MB 1.3 MB/s eta 0:00:03\n",
      "     -------------------------------- ------- 10.4/12.8 MB 1.2 MB/s eta 0:00:02\n",
      "     -------------------------------- ------- 10.5/12.8 MB 1.2 MB/s eta 0:00:02\n",
      "     --------------------------------- ------ 10.7/12.8 MB 1.2 MB/s eta 0:00:02\n",
      "     ---------------------------------- ----- 10.9/12.8 MB 1.2 MB/s eta 0:00:02\n",
      "     ---------------------------------- ----- 11.1/12.8 MB 1.2 MB/s eta 0:00:02\n",
      "     ----------------------------------- ---- 11.2/12.8 MB 1.2 MB/s eta 0:00:02\n",
      "     ----------------------------------- ---- 11.4/12.8 MB 1.2 MB/s eta 0:00:02\n",
      "     ------------------------------------ --- 11.6/12.8 MB 1.2 MB/s eta 0:00:01\n",
      "     ------------------------------------ --- 11.7/12.8 MB 1.2 MB/s eta 0:00:01\n",
      "     ------------------------------------- -- 11.9/12.8 MB 1.2 MB/s eta 0:00:01\n",
      "     ------------------------------------- -- 12.0/12.8 MB 1.2 MB/s eta 0:00:01\n",
      "     ------------------------------------- -- 12.1/12.8 MB 1.2 MB/s eta 0:00:01\n",
      "     -------------------------------------- - 12.2/12.8 MB 1.2 MB/s eta 0:00:01\n",
      "     -------------------------------------- - 12.3/12.8 MB 1.2 MB/s eta 0:00:01\n",
      "     -------------------------------------- - 12.4/12.8 MB 1.2 MB/s eta 0:00:01\n",
      "     ---------------------------------------  12.6/12.8 MB 1.3 MB/s eta 0:00:01\n",
      "     ---------------------------------------  12.7/12.8 MB 1.2 MB/s eta 0:00:01\n",
      "     ---------------------------------------- 12.8/12.8 MB 1.2 MB/s eta 0:00:00\n",
      "Requirement already satisfied: spacy<3.8.0,>=3.7.2 in c:\\users\\dell\\appdata\\local\\programs\\python\\python312\\lib\\site-packages (from en-core-web-sm==3.7.1) (3.7.4)\n",
      "Requirement already satisfied: spacy-legacy<3.1.0,>=3.0.11 in c:\\users\\dell\\appdata\\local\\programs\\python\\python312\\lib\\site-packages (from spacy<3.8.0,>=3.7.2->en-core-web-sm==3.7.1) (3.0.12)\n",
      "Requirement already satisfied: spacy-loggers<2.0.0,>=1.0.0 in c:\\users\\dell\\appdata\\local\\programs\\python\\python312\\lib\\site-packages (from spacy<3.8.0,>=3.7.2->en-core-web-sm==3.7.1) (1.0.5)\n",
      "Requirement already satisfied: murmurhash<1.1.0,>=0.28.0 in c:\\users\\dell\\appdata\\local\\programs\\python\\python312\\lib\\site-packages (from spacy<3.8.0,>=3.7.2->en-core-web-sm==3.7.1) (1.0.10)\n",
      "Requirement already satisfied: cymem<2.1.0,>=2.0.2 in c:\\users\\dell\\appdata\\local\\programs\\python\\python312\\lib\\site-packages (from spacy<3.8.0,>=3.7.2->en-core-web-sm==3.7.1) (2.0.8)\n",
      "Requirement already satisfied: preshed<3.1.0,>=3.0.2 in c:\\users\\dell\\appdata\\local\\programs\\python\\python312\\lib\\site-packages (from spacy<3.8.0,>=3.7.2->en-core-web-sm==3.7.1) (3.0.9)\n",
      "Requirement already satisfied: thinc<8.3.0,>=8.2.2 in c:\\users\\dell\\appdata\\local\\programs\\python\\python312\\lib\\site-packages (from spacy<3.8.0,>=3.7.2->en-core-web-sm==3.7.1) (8.2.3)\n",
      "Requirement already satisfied: wasabi<1.2.0,>=0.9.1 in c:\\users\\dell\\appdata\\local\\programs\\python\\python312\\lib\\site-packages (from spacy<3.8.0,>=3.7.2->en-core-web-sm==3.7.1) (1.1.2)\n",
      "Requirement already satisfied: srsly<3.0.0,>=2.4.3 in c:\\users\\dell\\appdata\\local\\programs\\python\\python312\\lib\\site-packages (from spacy<3.8.0,>=3.7.2->en-core-web-sm==3.7.1) (2.4.8)\n",
      "Requirement already satisfied: catalogue<2.1.0,>=2.0.6 in c:\\users\\dell\\appdata\\local\\programs\\python\\python312\\lib\\site-packages (from spacy<3.8.0,>=3.7.2->en-core-web-sm==3.7.1) (2.0.10)\n",
      "Requirement already satisfied: weasel<0.4.0,>=0.1.0 in c:\\users\\dell\\appdata\\local\\programs\\python\\python312\\lib\\site-packages (from spacy<3.8.0,>=3.7.2->en-core-web-sm==3.7.1) (0.3.4)\n",
      "Requirement already satisfied: typer<0.10.0,>=0.3.0 in c:\\users\\dell\\appdata\\local\\programs\\python\\python312\\lib\\site-packages (from spacy<3.8.0,>=3.7.2->en-core-web-sm==3.7.1) (0.9.4)\n",
      "Requirement already satisfied: smart-open<7.0.0,>=5.2.1 in c:\\users\\dell\\appdata\\local\\programs\\python\\python312\\lib\\site-packages (from spacy<3.8.0,>=3.7.2->en-core-web-sm==3.7.1) (6.4.0)\n",
      "Requirement already satisfied: tqdm<5.0.0,>=4.38.0 in c:\\users\\dell\\appdata\\local\\programs\\python\\python312\\lib\\site-packages (from spacy<3.8.0,>=3.7.2->en-core-web-sm==3.7.1) (4.66.2)\n",
      "Requirement already satisfied: requests<3.0.0,>=2.13.0 in c:\\users\\dell\\appdata\\local\\programs\\python\\python312\\lib\\site-packages (from spacy<3.8.0,>=3.7.2->en-core-web-sm==3.7.1) (2.31.0)\n",
      "Requirement already satisfied: pydantic!=1.8,!=1.8.1,<3.0.0,>=1.7.4 in c:\\users\\dell\\appdata\\local\\programs\\python\\python312\\lib\\site-packages (from spacy<3.8.0,>=3.7.2->en-core-web-sm==3.7.1) (2.6.3)\n",
      "Requirement already satisfied: jinja2 in c:\\users\\dell\\appdata\\local\\programs\\python\\python312\\lib\\site-packages (from spacy<3.8.0,>=3.7.2->en-core-web-sm==3.7.1) (3.1.3)\n",
      "Requirement already satisfied: setuptools in c:\\users\\dell\\appdata\\local\\programs\\python\\python312\\lib\\site-packages (from spacy<3.8.0,>=3.7.2->en-core-web-sm==3.7.1) (69.1.1)\n",
      "Requirement already satisfied: packaging>=20.0 in c:\\users\\dell\\appdata\\local\\programs\\python\\python312\\lib\\site-packages (from spacy<3.8.0,>=3.7.2->en-core-web-sm==3.7.1) (23.2)\n",
      "Requirement already satisfied: langcodes<4.0.0,>=3.2.0 in c:\\users\\dell\\appdata\\local\\programs\\python\\python312\\lib\\site-packages (from spacy<3.8.0,>=3.7.2->en-core-web-sm==3.7.1) (3.3.0)\n",
      "Requirement already satisfied: numpy>=1.19.0 in c:\\users\\dell\\appdata\\local\\programs\\python\\python312\\lib\\site-packages (from spacy<3.8.0,>=3.7.2->en-core-web-sm==3.7.1) (1.26.4)\n",
      "Requirement already satisfied: annotated-types>=0.4.0 in c:\\users\\dell\\appdata\\local\\programs\\python\\python312\\lib\\site-packages (from pydantic!=1.8,!=1.8.1,<3.0.0,>=1.7.4->spacy<3.8.0,>=3.7.2->en-core-web-sm==3.7.1) (0.6.0)\n",
      "Requirement already satisfied: pydantic-core==2.16.3 in c:\\users\\dell\\appdata\\local\\programs\\python\\python312\\lib\\site-packages (from pydantic!=1.8,!=1.8.1,<3.0.0,>=1.7.4->spacy<3.8.0,>=3.7.2->en-core-web-sm==3.7.1) (2.16.3)\n",
      "Requirement already satisfied: typing-extensions>=4.6.1 in c:\\users\\dell\\appdata\\local\\programs\\python\\python312\\lib\\site-packages (from pydantic!=1.8,!=1.8.1,<3.0.0,>=1.7.4->spacy<3.8.0,>=3.7.2->en-core-web-sm==3.7.1) (4.10.0)\n",
      "Requirement already satisfied: charset-normalizer<4,>=2 in c:\\users\\dell\\appdata\\local\\programs\\python\\python312\\lib\\site-packages (from requests<3.0.0,>=2.13.0->spacy<3.8.0,>=3.7.2->en-core-web-sm==3.7.1) (3.3.2)\n",
      "Requirement already satisfied: idna<4,>=2.5 in c:\\users\\dell\\appdata\\local\\programs\\python\\python312\\lib\\site-packages (from requests<3.0.0,>=2.13.0->spacy<3.8.0,>=3.7.2->en-core-web-sm==3.7.1) (3.6)\n",
      "Requirement already satisfied: urllib3<3,>=1.21.1 in c:\\users\\dell\\appdata\\local\\programs\\python\\python312\\lib\\site-packages (from requests<3.0.0,>=2.13.0->spacy<3.8.0,>=3.7.2->en-core-web-sm==3.7.1) (2.2.1)\n",
      "Requirement already satisfied: certifi>=2017.4.17 in c:\\users\\dell\\appdata\\local\\programs\\python\\python312\\lib\\site-packages (from requests<3.0.0,>=2.13.0->spacy<3.8.0,>=3.7.2->en-core-web-sm==3.7.1) (2024.2.2)\n",
      "Requirement already satisfied: blis<0.8.0,>=0.7.8 in c:\\users\\dell\\appdata\\local\\programs\\python\\python312\\lib\\site-packages (from thinc<8.3.0,>=8.2.2->spacy<3.8.0,>=3.7.2->en-core-web-sm==3.7.1) (0.7.11)\n",
      "Requirement already satisfied: confection<1.0.0,>=0.0.1 in c:\\users\\dell\\appdata\\local\\programs\\python\\python312\\lib\\site-packages (from thinc<8.3.0,>=8.2.2->spacy<3.8.0,>=3.7.2->en-core-web-sm==3.7.1) (0.1.4)\n",
      "Requirement already satisfied: colorama in c:\\users\\dell\\appdata\\local\\programs\\python\\python312\\lib\\site-packages (from tqdm<5.0.0,>=4.38.0->spacy<3.8.0,>=3.7.2->en-core-web-sm==3.7.1) (0.4.6)\n",
      "Requirement already satisfied: click<9.0.0,>=7.1.1 in c:\\users\\dell\\appdata\\local\\programs\\python\\python312\\lib\\site-packages (from typer<0.10.0,>=0.3.0->spacy<3.8.0,>=3.7.2->en-core-web-sm==3.7.1) (8.1.7)\n",
      "Requirement already satisfied: cloudpathlib<0.17.0,>=0.7.0 in c:\\users\\dell\\appdata\\local\\programs\\python\\python312\\lib\\site-packages (from weasel<0.4.0,>=0.1.0->spacy<3.8.0,>=3.7.2->en-core-web-sm==3.7.1) (0.16.0)\n",
      "Requirement already satisfied: MarkupSafe>=2.0 in c:\\users\\dell\\appdata\\local\\programs\\python\\python312\\lib\\site-packages (from jinja2->spacy<3.8.0,>=3.7.2->en-core-web-sm==3.7.1) (2.1.5)\n",
      "Installing collected packages: en-core-web-sm\n",
      "Successfully installed en-core-web-sm-3.7.1\n",
      "\u001b[38;5;2m✔ Download and installation successful\u001b[0m\n",
      "You can now load the package via spacy.load('en_core_web_sm')\n"
     ]
    }
   ],
   "source": [
    "# Download and install the English language model\n",
    "!python -m spacy download en_core_web_sm\n",
    "\n",
    "# spaCy is a modern and efficient library suited for industrial NLP applications\n",
    "# NLTK is a comprehensive toolkit that offers more flexibility and is often used for educational and research purposes"
   ]
  },
  {
   "cell_type": "markdown",
   "metadata": {},
   "source": [
    "en: This indicates that the model is for the English language.\n",
    "\n",
    "core: This suggests that the model contains core linguistic components, such as tokenization, part-of-speech tagging, dependency parsing, named entity recognition, and more. These components are essential for various NLP tasks.\n",
    "\n",
    "web: This signifies that the model was trained on web data, which typically includes a broad range of text genres and styles commonly found on the internet.\n",
    "\n",
    "sm: This stands for \"small\". It indicates that the model is one of the smaller-sized models provided by spaCy. Small models are lighter in size and require less memory compared to larger models, making them more suitable for applications with limited computational resources or deployment in resource-constrained environments."
   ]
  },
  {
   "cell_type": "markdown",
   "metadata": {
    "id": "G6YbxcG7DE8C"
   },
   "source": [
    "## **Methods:**\n",
    "\n",
    "### **1. Modifying vocab.is_stop attribute:**"
   ]
  },
  {
   "cell_type": "markdown",
   "metadata": {},
   "source": [
    "#### Importing neccessary libraries"
   ]
  },
  {
   "cell_type": "code",
   "execution_count": 9,
   "metadata": {},
   "outputs": [],
   "source": [
    "import spacy\n",
    "from spacy.lang.en import STOP_WORDS\n",
    "\n",
    "nlp = spacy.load(\"en_core_web_sm\")"
   ]
  },
  {
   "cell_type": "markdown",
   "metadata": {},
   "source": [
    "#### Adding custom words to the list of stopwords"
   ]
  },
  {
   "cell_type": "code",
   "execution_count": 10,
   "metadata": {},
   "outputs": [],
   "source": [
    "# Define custom stopwords\n",
    "custom_stopwords = {'NIL', 'JUNK'}\n",
    "\n",
    "# Add custom stopwords to the spaCy language model\n",
    "for word in custom_stopwords:\n",
    "    nlp.vocab[word].is_stop = True"
   ]
  },
  {
   "cell_type": "markdown",
   "metadata": {},
   "source": [
    "#### Python code for removing custom stopwords after tokenisation"
   ]
  },
  {
   "cell_type": "code",
   "execution_count": 11,
   "metadata": {
    "id": "3gnEQUUfDE8K"
   },
   "outputs": [],
   "source": [
    "# Function to remove stopwords from text\n",
    "def remove_stopwords(text):\n",
    "    doc = nlp(text)\n",
    "    filtered_tokens = ([token.text for token in doc if not token.is_stop])\n",
    "    return filtered_tokens"
   ]
  },
  {
   "cell_type": "code",
   "execution_count": 12,
   "metadata": {},
   "outputs": [
    {
     "name": "stdout",
     "output_type": "stream",
     "text": [
      "Original text: This is an example sentence demonstrating stop word removal. NIL and JUNK are custom stopwords. \n",
      "\n",
      "Text after stop word removal: ['example', 'sentence', 'demonstrating', 'stop', 'word', 'removal', '.', 'custom', 'stopwords', '.']\n"
     ]
    }
   ],
   "source": [
    "text = \"This is an example sentence demonstrating stop word removal. NIL and JUNK are custom stopwords.\"\n",
    "filtered_tokens = remove_stopwords(text)\n",
    "\n",
    "print(\"Original text:\", text, \"\\n\")\n",
    "print(\"Text after stop word removal:\", filtered_tokens)"
   ]
  },
  {
   "cell_type": "markdown",
   "metadata": {},
   "source": [
    "#### Python code for removing custom stopwords without tokenisation"
   ]
  },
  {
   "cell_type": "code",
   "execution_count": 13,
   "metadata": {},
   "outputs": [],
   "source": [
    "# Function to remove stopwords from text\n",
    "def remove_stopwords(text):\n",
    "    doc = nlp(text)\n",
    "    filtered_tokens = [token.text for token in doc if not token.is_stop]\n",
    "    filtered_text = ' '.join(filtered_tokens)\n",
    "    return filtered_text"
   ]
  },
  {
   "cell_type": "code",
   "execution_count": 14,
   "metadata": {},
   "outputs": [
    {
     "name": "stdout",
     "output_type": "stream",
     "text": [
      "Original text: This is an example sentence demonstrating stop word removal. NIL and JUNK are custom stopwords. \n",
      "\n",
      "Text after stop word removal: example sentence demonstrating stop word removal . custom stopwords .\n"
     ]
    }
   ],
   "source": [
    "text = \"This is an example sentence demonstrating stop word removal. NIL and JUNK are custom stopwords.\"\n",
    "filtered_text = remove_stopwords(text)\n",
    "print(\"Original text:\", text, '\\n')\n",
    "print(\"Text after stop word removal:\", filtered_text)"
   ]
  },
  {
   "cell_type": "markdown",
   "metadata": {
    "id": "5zTUsjyiDE8N"
   },
   "source": [
    "### **2. Modifying Defaults.stop_words:**"
   ]
  },
  {
   "cell_type": "markdown",
   "metadata": {},
   "source": [
    "#### Importing necessary models and adding custom stopwords"
   ]
  },
  {
   "cell_type": "code",
   "execution_count": 15,
   "metadata": {
    "id": "X3cSahW4DE8N"
   },
   "outputs": [],
   "source": [
    "# Load the English language model\n",
    "nlp = spacy.load(\"en_core_web_sm\")\n",
    "\n",
    "# Define custom stopwords\n",
    "custom_stopwords = ['nil', 'junk']\n",
    "\n",
    "# Add custom stopwords to the spaCy language model\n",
    "for word in custom_stopwords:\n",
    "    nlp.Defaults.stop_words.add(word)"
   ]
  },
  {
   "cell_type": "markdown",
   "metadata": {},
   "source": [
    "#### Python code for removing custom stopwords after tokenisation"
   ]
  },
  {
   "cell_type": "code",
   "execution_count": 16,
   "metadata": {},
   "outputs": [],
   "source": [
    "# Function to remove stopwords from text\n",
    "def remove_stopwords(text):\n",
    "    doc = nlp(text)\n",
    "    filtered_tokens = [token.text for token in doc if token.text.lower() not in nlp.Defaults.stop_words]\n",
    "    return filtered_tokens"
   ]
  },
  {
   "cell_type": "code",
   "execution_count": 17,
   "metadata": {},
   "outputs": [
    {
     "name": "stdout",
     "output_type": "stream",
     "text": [
      "Original text: This is an example sentence demonstrating stop word removal. NIL and JUNK are custom stopwords. \n",
      "\n",
      "Text after stop word removal: ['example', 'sentence', 'demonstrating', 'stop', 'word', 'removal', '.', 'custom', 'stopwords', '.']\n"
     ]
    }
   ],
   "source": [
    "text = \"This is an example sentence demonstrating stop word removal. NIL and JUNK are custom stopwords.\"\n",
    "filtered_text = remove_stopwords(text)\n",
    "print(\"Original text:\", text, '\\n')\n",
    "print(\"Text after stop word removal:\", filtered_text)"
   ]
  },
  {
   "cell_type": "markdown",
   "metadata": {
    "id": "OOz_Kmc-DE8P"
   },
   "source": [
    "### **3. Override Language.Defaults.stop_words:**"
   ]
  },
  {
   "cell_type": "markdown",
   "metadata": {},
   "source": [
    "#### Adding custom stopwords"
   ]
  },
  {
   "cell_type": "code",
   "execution_count": 18,
   "metadata": {
    "id": "-O88i5-QDE8P"
   },
   "outputs": [],
   "source": [
    "# Define custom stopwords\n",
    "new_stopwords = {'NIL', 'JUNK'}\n",
    "\n",
    "# Get default stopwords from spaCy and convert to a set\n",
    "default_stopwords = set(nlp.Defaults.stop_words)\n",
    "\n",
    "# Add custom stopwords to the default stopwords\n",
    "updated_stopwords = default_stopwords.union(new_stopwords)"
   ]
  },
  {
   "cell_type": "markdown",
   "metadata": {},
   "source": [
    "#### Python code for removing custom stopwords after tokenisation"
   ]
  },
  {
   "cell_type": "code",
   "execution_count": 19,
   "metadata": {},
   "outputs": [],
   "source": [
    "# Function to remove stopwords from text\n",
    "def remove_stopwords(text):\n",
    "    doc = nlp(text)\n",
    "    filtered_tokens = [token.text for token in doc if token.text.lower() not in updated_stopwords]\n",
    "    return filtered_tokens"
   ]
  },
  {
   "cell_type": "code",
   "execution_count": 20,
   "metadata": {},
   "outputs": [
    {
     "name": "stdout",
     "output_type": "stream",
     "text": [
      "Original text: This is an example sentence demonstrating stop word removal. NIL and JUNK are custom stopwords. \n",
      "\n",
      "Text after stop word removal: example sentence demonstrating stop word removal . custom stopwords .\n"
     ]
    }
   ],
   "source": [
    "text = \"This is an example sentence demonstrating stop word removal. NIL and JUNK are custom stopwords.\"\n",
    "filtered_text = remove_stopwords(text)\n",
    "print(\"Original text:\", text, '\\n')\n",
    "print(\"Text after stop word removal:\", ' '.join(filtered_text))"
   ]
  },
  {
   "cell_type": "code",
   "execution_count": null,
   "metadata": {},
   "outputs": [],
   "source": []
  }
 ],
 "metadata": {
  "colab": {
   "provenance": []
  },
  "kernelspec": {
   "display_name": "Python 3 (ipykernel)",
   "language": "python",
   "name": "python3"
  },
  "language_info": {
   "codemirror_mode": {
    "name": "ipython",
    "version": 3
   },
   "file_extension": ".py",
   "mimetype": "text/x-python",
   "name": "python",
   "nbconvert_exporter": "python",
   "pygments_lexer": "ipython3",
   "version": "3.12.2"
  }
 },
 "nbformat": 4,
 "nbformat_minor": 4
}
