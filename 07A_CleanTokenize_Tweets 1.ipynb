{
 "cells": [
  {
   "cell_type": "markdown",
   "id": "6a98b938-27e4-4aa9-911e-9fe8fb92ff11",
   "metadata": {},
   "source": [
    "### Importing Necessary Libraries"
   ]
  },
  {
   "cell_type": "code",
   "execution_count": 2,
   "id": "521abd6d",
   "metadata": {},
   "outputs": [],
   "source": [
    "import re\n",
    "import nltk\n",
    "from nltk.tokenize import word_tokenize"
   ]
  },
  {
   "cell_type": "markdown",
   "id": "ca245a69-4992-4a4f-81ac-8b02d84bef34",
   "metadata": {},
   "source": [
    "### Sample data"
   ]
  },
  {
   "cell_type": "code",
   "execution_count": 3,
   "id": "93aaaaf6",
   "metadata": {},
   "outputs": [],
   "source": [
    "# Sample tweets\n",
    "tweets = [\n",
    "    \"Just watched a great movie! #awesome\",\n",
    "    \"Feeling happy today 😊\",\n",
    "    \"I can't believe what happened yesterday...\",\n",
    "    \"RT @username: Check out this article: 'How to be productive in 2024' #productivity\"\n",
    "]"
   ]
  },
  {
   "cell_type": "markdown",
   "id": "fd0fec98-ffd6-45cd-8d43-c1fa6301503c",
   "metadata": {},
   "source": [
    "### User defined function to clean the tweets"
   ]
  },
  {
   "cell_type": "code",
   "execution_count": 4,
   "id": "45c03bfb",
   "metadata": {},
   "outputs": [],
   "source": [
    "# Function to clean a tweet\n",
    "\n",
    "# re.sub(pattern, repl, string, count=0)\n",
    "\n",
    "\n",
    "def clean_tweet(tweet):\n",
    "    # Remove URLs\n",
    "    tweet = re.sub(r'http\\S+', '', tweet)\n",
    "    # Remove usernames (e.g., @username)\n",
    "    tweet = re.sub(r'@[^\\s]+', '', tweet)\n",
    "    # Remove special characters, punctuation, and numbers\n",
    "    tweet = re.sub(r'[^A-Za-z\\s]', '', tweet)\n",
    "    # Remove extra whitespaces\n",
    "    tweet = re.sub(r'\\s+', ' ', tweet).strip()\n",
    "    return tweet"
   ]
  },
  {
   "cell_type": "markdown",
   "id": "80b9ddaf-9958-43ea-b0cd-00dc15beea23",
   "metadata": {},
   "source": [
    "### User defined function to clean and tokenize the tweets"
   ]
  },
  {
   "cell_type": "code",
   "execution_count": 5,
   "id": "ad8e4fed",
   "metadata": {},
   "outputs": [],
   "source": [
    "# Tokenize and clean tweets\n",
    "cleaned_tokenized_tweets = []\n",
    "for tweet in tweets:\n",
    "    cleaned_tweet = clean_tweet(tweet)\n",
    "    tokens = word_tokenize(cleaned_tweet)\n",
    "    cleaned_tokenized_tweets.append(tokens)"
   ]
  },
  {
   "cell_type": "markdown",
   "id": "04f82d61-bfc5-49a2-affb-f989e721a0e4",
   "metadata": {},
   "source": [
    "### Print cleaned and tokenized tweets"
   ]
  },
  {
   "cell_type": "code",
   "execution_count": 6,
   "id": "7d40d8d3",
   "metadata": {},
   "outputs": [
    {
     "name": "stdout",
     "output_type": "stream",
     "text": [
      "Tweet 1: ['Just', 'watched', 'a', 'great', 'movie', 'awesome']\n",
      "Tweet 2: ['Feeling', 'happy', 'today']\n",
      "Tweet 3: ['I', 'cant', 'believe', 'what', 'happened', 'yesterday']\n",
      "Tweet 4: ['RT', 'Check', 'out', 'this', 'article', 'How', 'to', 'be', 'productive', 'in', 'productivity']\n"
     ]
    }
   ],
   "source": [
    "# Print cleaned and tokenized tweets\n",
    "for i, tokens in enumerate(cleaned_tokenized_tweets, 1):\n",
    "    print(f\"Tweet {i}: {tokens}\")"
   ]
  },
  {
   "cell_type": "code",
   "execution_count": null,
   "id": "0e9feb58",
   "metadata": {},
   "outputs": [],
   "source": []
  }
 ],
 "metadata": {
  "kernelspec": {
   "display_name": "Python 3 (ipykernel)",
   "language": "python",
   "name": "python3"
  },
  "language_info": {
   "codemirror_mode": {
    "name": "ipython",
    "version": 3
   },
   "file_extension": ".py",
   "mimetype": "text/x-python",
   "name": "python",
   "nbconvert_exporter": "python",
   "pygments_lexer": "ipython3",
   "version": "3.12.2"
  }
 },
 "nbformat": 4,
 "nbformat_minor": 5
}
